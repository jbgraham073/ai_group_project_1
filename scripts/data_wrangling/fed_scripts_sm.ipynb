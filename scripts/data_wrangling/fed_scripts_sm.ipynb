{
 "cells": [
  {
   "cell_type": "code",
   "execution_count": 1,
   "metadata": {},
   "outputs": [],
   "source": [
    "import pandas as pd"
   ]
  },
  {
   "cell_type": "code",
   "execution_count": 2,
   "metadata": {},
   "outputs": [],
   "source": [
    "# Read the data from the fed_current_tax_receipts CSV file\n",
    "tax_receipts_df = pd.read_csv('fed_current_tax_receipts.csv')"
   ]
  },
  {
   "cell_type": "code",
   "execution_count": 3,
   "metadata": {},
   "outputs": [
    {
     "name": "stdout",
     "output_type": "stream",
     "text": [
      "         DATE  W006RC1Q027SBEA\n",
      "0  2000-01-01         1272.073\n",
      "1  2000-04-01         1284.187\n",
      "2  2000-07-01         1291.650\n",
      "3  2000-10-01         1306.215\n",
      "4  2001-01-01         1301.000\n"
     ]
    }
   ],
   "source": [
    "# Print the first 5 rows of the dataframe\n",
    "print(tax_receipts_df.head())"
   ]
  },
  {
   "cell_type": "code",
   "execution_count": 4,
   "metadata": {},
   "outputs": [
    {
     "data": {
      "text/html": [
       "<div>\n",
       "<style scoped>\n",
       "    .dataframe tbody tr th:only-of-type {\n",
       "        vertical-align: middle;\n",
       "    }\n",
       "\n",
       "    .dataframe tbody tr th {\n",
       "        vertical-align: top;\n",
       "    }\n",
       "\n",
       "    .dataframe thead th {\n",
       "        text-align: right;\n",
       "    }\n",
       "</style>\n",
       "<table border=\"1\" class=\"dataframe\">\n",
       "  <thead>\n",
       "    <tr style=\"text-align: right;\">\n",
       "      <th></th>\n",
       "      <th>Federal Tax Receipts</th>\n",
       "    </tr>\n",
       "    <tr>\n",
       "      <th>Date</th>\n",
       "      <th></th>\n",
       "    </tr>\n",
       "  </thead>\n",
       "  <tbody>\n",
       "    <tr>\n",
       "      <th>2000-01-01</th>\n",
       "      <td>1272.073</td>\n",
       "    </tr>\n",
       "    <tr>\n",
       "      <th>2000-04-01</th>\n",
       "      <td>1284.187</td>\n",
       "    </tr>\n",
       "    <tr>\n",
       "      <th>2000-07-01</th>\n",
       "      <td>1291.650</td>\n",
       "    </tr>\n",
       "    <tr>\n",
       "      <th>2000-10-01</th>\n",
       "      <td>1306.215</td>\n",
       "    </tr>\n",
       "    <tr>\n",
       "      <th>2001-01-01</th>\n",
       "      <td>1301.000</td>\n",
       "    </tr>\n",
       "    <tr>\n",
       "      <th>...</th>\n",
       "      <td>...</td>\n",
       "    </tr>\n",
       "    <tr>\n",
       "      <th>2022-07-01</th>\n",
       "      <td>3131.082</td>\n",
       "    </tr>\n",
       "    <tr>\n",
       "      <th>2022-10-01</th>\n",
       "      <td>3077.903</td>\n",
       "    </tr>\n",
       "    <tr>\n",
       "      <th>2023-01-01</th>\n",
       "      <td>2781.062</td>\n",
       "    </tr>\n",
       "    <tr>\n",
       "      <th>2023-04-01</th>\n",
       "      <td>2788.722</td>\n",
       "    </tr>\n",
       "    <tr>\n",
       "      <th>2023-07-01</th>\n",
       "      <td>2803.825</td>\n",
       "    </tr>\n",
       "  </tbody>\n",
       "</table>\n",
       "<p>95 rows × 1 columns</p>\n",
       "</div>"
      ],
      "text/plain": [
       "            Federal Tax Receipts\n",
       "Date                            \n",
       "2000-01-01              1272.073\n",
       "2000-04-01              1284.187\n",
       "2000-07-01              1291.650\n",
       "2000-10-01              1306.215\n",
       "2001-01-01              1301.000\n",
       "...                          ...\n",
       "2022-07-01              3131.082\n",
       "2022-10-01              3077.903\n",
       "2023-01-01              2781.062\n",
       "2023-04-01              2788.722\n",
       "2023-07-01              2803.825\n",
       "\n",
       "[95 rows x 1 columns]"
      ]
     },
     "execution_count": 4,
     "metadata": {},
     "output_type": "execute_result"
    }
   ],
   "source": [
    "# rename the columns to 'Date' and 'Federal Tax Receipts'\n",
    "tax_receipts_df.rename(columns = {'DATE': 'Date', 'W006RC1Q027SBEA': 'Federal Tax Receipts'}, inplace = True)\n",
    "tax_receipts_df['Date'] = pd.to_datetime(tax_receipts_df['Date'])\n",
    "tax_receipts_df.set_index('Date', inplace = True)\n",
    "tax_receipts_df"
   ]
  },
  {
   "cell_type": "code",
   "execution_count": 5,
   "metadata": {},
   "outputs": [],
   "source": [
    "# Read the data from the Fed_surplus_deficit CSV file\n",
    "fed_surplus_deficit = pd.read_csv('fed_surplus_deficit.csv')"
   ]
  },
  {
   "cell_type": "code",
   "execution_count": 6,
   "metadata": {},
   "outputs": [
    {
     "name": "stdout",
     "output_type": "stream",
     "text": [
      "         DATE  MTSDS133FMS\n",
      "0  2000-01-01      62152.0\n",
      "1  2000-02-01     -41734.0\n",
      "2  2000-03-01     -35380.0\n",
      "3  2000-04-01     159497.0\n",
      "4  2000-05-01      -3611.0\n"
     ]
    }
   ],
   "source": [
    "# Print the first 5 rows of the dataframe\n",
    "print(fed_surplus_deficit.head())"
   ]
  },
  {
   "cell_type": "code",
   "execution_count": 7,
   "metadata": {},
   "outputs": [
    {
     "data": {
      "text/html": [
       "<div>\n",
       "<style scoped>\n",
       "    .dataframe tbody tr th:only-of-type {\n",
       "        vertical-align: middle;\n",
       "    }\n",
       "\n",
       "    .dataframe tbody tr th {\n",
       "        vertical-align: top;\n",
       "    }\n",
       "\n",
       "    .dataframe thead th {\n",
       "        text-align: right;\n",
       "    }\n",
       "</style>\n",
       "<table border=\"1\" class=\"dataframe\">\n",
       "  <thead>\n",
       "    <tr style=\"text-align: right;\">\n",
       "      <th></th>\n",
       "      <th>Federal Surplus/Deficit</th>\n",
       "    </tr>\n",
       "    <tr>\n",
       "      <th>Date</th>\n",
       "      <th></th>\n",
       "    </tr>\n",
       "  </thead>\n",
       "  <tbody>\n",
       "    <tr>\n",
       "      <th>2000-01-01</th>\n",
       "      <td>62152.000000</td>\n",
       "    </tr>\n",
       "    <tr>\n",
       "      <th>2000-02-01</th>\n",
       "      <td>-41734.000000</td>\n",
       "    </tr>\n",
       "    <tr>\n",
       "      <th>2000-03-01</th>\n",
       "      <td>-35380.000000</td>\n",
       "    </tr>\n",
       "    <tr>\n",
       "      <th>2000-04-01</th>\n",
       "      <td>159497.000000</td>\n",
       "    </tr>\n",
       "    <tr>\n",
       "      <th>2000-05-01</th>\n",
       "      <td>-3611.000000</td>\n",
       "    </tr>\n",
       "    <tr>\n",
       "      <th>...</th>\n",
       "      <td>...</td>\n",
       "    </tr>\n",
       "    <tr>\n",
       "      <th>2023-08-01</th>\n",
       "      <td>89255.572694</td>\n",
       "    </tr>\n",
       "    <tr>\n",
       "      <th>2023-09-01</th>\n",
       "      <td>-170982.200875</td>\n",
       "    </tr>\n",
       "    <tr>\n",
       "      <th>2023-10-01</th>\n",
       "      <td>-66563.551130</td>\n",
       "    </tr>\n",
       "    <tr>\n",
       "      <th>2023-11-01</th>\n",
       "      <td>-314012.002287</td>\n",
       "    </tr>\n",
       "    <tr>\n",
       "      <th>2023-12-01</th>\n",
       "      <td>-129365.414920</td>\n",
       "    </tr>\n",
       "  </tbody>\n",
       "</table>\n",
       "<p>288 rows × 1 columns</p>\n",
       "</div>"
      ],
      "text/plain": [
       "            Federal Surplus/Deficit\n",
       "Date                               \n",
       "2000-01-01             62152.000000\n",
       "2000-02-01            -41734.000000\n",
       "2000-03-01            -35380.000000\n",
       "2000-04-01            159497.000000\n",
       "2000-05-01             -3611.000000\n",
       "...                             ...\n",
       "2023-08-01             89255.572694\n",
       "2023-09-01           -170982.200875\n",
       "2023-10-01            -66563.551130\n",
       "2023-11-01           -314012.002287\n",
       "2023-12-01           -129365.414920\n",
       "\n",
       "[288 rows x 1 columns]"
      ]
     },
     "execution_count": 7,
     "metadata": {},
     "output_type": "execute_result"
    }
   ],
   "source": [
    "# Rename the colums to 'Date' and 'Federal Surplus/Deficit'\n",
    "fed_surplus_deficit.rename(columns = {'DATE': 'Date', 'MTSDS133FMS': 'Federal Surplus/Deficit'}, inplace = True)\n",
    "fed_surplus_deficit['Date'] = pd.to_datetime(fed_surplus_deficit['Date'])\n",
    "fed_surplus_deficit.set_index('Date', inplace = True)\n",
    "fed_surplus_deficit"
   ]
  },
  {
   "cell_type": "code",
   "execution_count": null,
   "metadata": {},
   "outputs": [],
   "source": [
    "# export the dataframes to CSV files\n",
    "tax_receipts_df.to_csv('clean_fed_current_tax_receipts.csv')\n",
    "fed_surplus_deficit.to_csv('clean_fed_surplus_deficit.csv')"
   ]
  }
 ],
 "metadata": {
  "kernelspec": {
   "display_name": "base",
   "language": "python",
   "name": "python3"
  },
  "language_info": {
   "codemirror_mode": {
    "name": "ipython",
    "version": 3
   },
   "file_extension": ".py",
   "mimetype": "text/x-python",
   "name": "python",
   "nbconvert_exporter": "python",
   "pygments_lexer": "ipython3",
   "version": "3.11.5"
  }
 },
 "nbformat": 4,
 "nbformat_minor": 2
}
