{
 "cells": [
  {
   "cell_type": "code",
   "execution_count": 1,
   "metadata": {},
   "outputs": [],
   "source": [
    "import pandas as pd\n",
    "import numpy as np\n",
    "import matplotlib.pyplot as plt"
   ]
  },
  {
   "cell_type": "code",
   "execution_count": 2,
   "metadata": {},
   "outputs": [],
   "source": [
    "# Read the data from the CSV file\n",
    "mhcld_2013 = pd.read_csv('mhcld_2013.csv')\n",
    "mhcld_2014 = pd.read_csv('mhcld_2014.csv')\n",
    "mhcld_2015 = pd.read_csv('mhcld_2015.csv')\n",
    "mhcld_2016 = pd.read_csv('mhcld_2016.csv')\n",
    "mhcld_2017 = pd.read_csv('mhcld_2017.csv')\n",
    "mhcld_2018 = pd.read_csv('mhcld_2018.csv')\n",
    "mhcld_2019 = pd.read_csv('mhcld_2019.csv')\n",
    "mhcld_2020 = pd.read_csv('mhcld_2020.csv')\n",
    "mhcld_2021 = pd.read_csv('mhcld_2021.csv')"
   ]
  },
  {
   "cell_type": "code",
   "execution_count": 9,
   "metadata": {},
   "outputs": [
    {
     "name": "stdout",
     "output_type": "stream",
     "text": [
      "(5546606, 40)\n",
      "(5696772, 40)\n",
      "(5165254, 40)\n",
      "(5656750, 40)\n",
      "(6172051, 40)\n",
      "(6418360, 40)\n",
      "(6548683, 40)\n",
      "(6959702, 40)\n",
      "(6509025, 40)\n"
     ]
    }
   ],
   "source": [
    "# iterate through the dataframes and print the shape of each dataframe\n",
    "for df in [mhcld_2013, mhcld_2014, mhcld_2015, mhcld_2016, mhcld_2017, mhcld_2018, mhcld_2019, mhcld_2020, mhcld_2021]:\n",
    "    print(df.shape)"
   ]
  },
  {
   "cell_type": "code",
   "execution_count": 10,
   "metadata": {},
   "outputs": [],
   "source": [
    "# create a new dataframe to store the data\n",
    "mhsa_data = pd.DataFrame()"
   ]
  },
  {
   "cell_type": "code",
   "execution_count": 11,
   "metadata": {},
   "outputs": [
    {
     "data": {
      "text/html": [
       "<div>\n",
       "<style scoped>\n",
       "    .dataframe tbody tr th:only-of-type {\n",
       "        vertical-align: middle;\n",
       "    }\n",
       "\n",
       "    .dataframe tbody tr th {\n",
       "        vertical-align: top;\n",
       "    }\n",
       "\n",
       "    .dataframe thead th {\n",
       "        text-align: right;\n",
       "    }\n",
       "</style>\n",
       "<table border=\"1\" class=\"dataframe\">\n",
       "  <thead>\n",
       "    <tr style=\"text-align: right;\">\n",
       "      <th></th>\n",
       "      <th>ANXIETYFLG</th>\n",
       "      <th>DEPRESSFLG</th>\n",
       "      <th>ALCSUBFLG</th>\n",
       "    </tr>\n",
       "    <tr>\n",
       "      <th>YEAR</th>\n",
       "      <th></th>\n",
       "      <th></th>\n",
       "      <th></th>\n",
       "    </tr>\n",
       "  </thead>\n",
       "  <tbody>\n",
       "    <tr>\n",
       "      <th>2013</th>\n",
       "      <td>666911</td>\n",
       "      <td>1438166</td>\n",
       "      <td>330870</td>\n",
       "    </tr>\n",
       "    <tr>\n",
       "      <th>2014</th>\n",
       "      <td>728842</td>\n",
       "      <td>1493754</td>\n",
       "      <td>352250</td>\n",
       "    </tr>\n",
       "    <tr>\n",
       "      <th>2015</th>\n",
       "      <td>755388</td>\n",
       "      <td>1419968</td>\n",
       "      <td>269220</td>\n",
       "    </tr>\n",
       "    <tr>\n",
       "      <th>2016</th>\n",
       "      <td>837963</td>\n",
       "      <td>1429857</td>\n",
       "      <td>234950</td>\n",
       "    </tr>\n",
       "    <tr>\n",
       "      <th>2017</th>\n",
       "      <td>1052775</td>\n",
       "      <td>1597119</td>\n",
       "      <td>244899</td>\n",
       "    </tr>\n",
       "    <tr>\n",
       "      <th>2018</th>\n",
       "      <td>1239952</td>\n",
       "      <td>1756299</td>\n",
       "      <td>273438</td>\n",
       "    </tr>\n",
       "    <tr>\n",
       "      <th>2019</th>\n",
       "      <td>1339929</td>\n",
       "      <td>1824863</td>\n",
       "      <td>296801</td>\n",
       "    </tr>\n",
       "    <tr>\n",
       "      <th>2020</th>\n",
       "      <td>1407865</td>\n",
       "      <td>1837679</td>\n",
       "      <td>385770</td>\n",
       "    </tr>\n",
       "    <tr>\n",
       "      <th>2021</th>\n",
       "      <td>1507425</td>\n",
       "      <td>1790346</td>\n",
       "      <td>380511</td>\n",
       "    </tr>\n",
       "  </tbody>\n",
       "</table>\n",
       "</div>"
      ],
      "text/plain": [
       "      ANXIETYFLG  DEPRESSFLG  ALCSUBFLG\n",
       "YEAR                                   \n",
       "2013      666911     1438166     330870\n",
       "2014      728842     1493754     352250\n",
       "2015      755388     1419968     269220\n",
       "2016      837963     1429857     234950\n",
       "2017     1052775     1597119     244899\n",
       "2018     1239952     1756299     273438\n",
       "2019     1339929     1824863     296801\n",
       "2020     1407865     1837679     385770\n",
       "2021     1507425     1790346     380511"
      ]
     },
     "execution_count": 11,
     "metadata": {},
     "output_type": "execute_result"
    }
   ],
   "source": [
    "# for each year, calculate the number of anxiety, depressive disorder, and alcohol/substance use cases for each year and append the results to the compiled_data dataframe\n",
    "\n",
    "mhsa_data['YEAR'] = ['2013', '2014', '2015', '2016', '2017', '2018', '2019', '2020', '2021']\n",
    "mhsa_data['ANXIETYFLG'] = [mhcld_2013['ANXIETYFLG'].sum(), mhcld_2014['ANXIETYFLG'].sum(), mhcld_2015['ANXIETYFLG'].sum(), mhcld_2016['ANXIETYFLG'].sum(), mhcld_2017['ANXIETYFLG'].sum(), mhcld_2018['ANXIETYFLG'].sum(), mhcld_2019['ANXIETYFLG'].sum(), mhcld_2020['ANXIETYFLG'].sum(), mhcld_2021['ANXIETYFLG'].sum()]\n",
    "mhsa_data['DEPRESSFLG'] = [mhcld_2013['DEPRESSFLG'].sum(), mhcld_2014['DEPRESSFLG'].sum(), mhcld_2015['DEPRESSFLG'].sum(), mhcld_2016['DEPRESSFLG'].sum(), mhcld_2017['DEPRESSFLG'].sum(), mhcld_2018['DEPRESSFLG'].sum(), mhcld_2019['DEPRESSFLG'].sum(), mhcld_2020['DEPRESSFLG'].sum(), mhcld_2021['DEPRESSFLG'].sum()]\n",
    "mhsa_data['ALCSUBFLG'] = [mhcld_2013['ALCSUBFLG'].sum(), mhcld_2014['ALCSUBFLG'].sum(), mhcld_2015['ALCSUBFLG'].sum(), mhcld_2016['ALCSUBFLG'].sum(), mhcld_2017['ALCSUBFLG'].sum(), mhcld_2018['ALCSUBFLG'].sum(), mhcld_2019['ALCSUBFLG'].sum(), mhcld_2020['ALCSUBFLG'].sum(), mhcld_2021['ALCSUBFLG'].sum()]\n",
    "\n",
    "# set the index of the compiled_data dataframe to the YEAR column\n",
    "mhsa_data.set_index('YEAR', inplace=True)\n",
    "mhsa_data"
   ]
  },
  {
   "cell_type": "code",
   "execution_count": 12,
   "metadata": {},
   "outputs": [
    {
     "data": {
      "text/html": [
       "<div>\n",
       "<style scoped>\n",
       "    .dataframe tbody tr th:only-of-type {\n",
       "        vertical-align: middle;\n",
       "    }\n",
       "\n",
       "    .dataframe tbody tr th {\n",
       "        vertical-align: top;\n",
       "    }\n",
       "\n",
       "    .dataframe thead th {\n",
       "        text-align: right;\n",
       "    }\n",
       "</style>\n",
       "<table border=\"1\" class=\"dataframe\">\n",
       "  <thead>\n",
       "    <tr style=\"text-align: right;\">\n",
       "      <th></th>\n",
       "      <th>Anxiety</th>\n",
       "      <th>Depressive Disorder</th>\n",
       "      <th>Alcohol/Substance Use</th>\n",
       "    </tr>\n",
       "    <tr>\n",
       "      <th>YEAR</th>\n",
       "      <th></th>\n",
       "      <th></th>\n",
       "      <th></th>\n",
       "    </tr>\n",
       "  </thead>\n",
       "  <tbody>\n",
       "    <tr>\n",
       "      <th>2013</th>\n",
       "      <td>666911</td>\n",
       "      <td>1438166</td>\n",
       "      <td>330870</td>\n",
       "    </tr>\n",
       "    <tr>\n",
       "      <th>2014</th>\n",
       "      <td>728842</td>\n",
       "      <td>1493754</td>\n",
       "      <td>352250</td>\n",
       "    </tr>\n",
       "    <tr>\n",
       "      <th>2015</th>\n",
       "      <td>755388</td>\n",
       "      <td>1419968</td>\n",
       "      <td>269220</td>\n",
       "    </tr>\n",
       "    <tr>\n",
       "      <th>2016</th>\n",
       "      <td>837963</td>\n",
       "      <td>1429857</td>\n",
       "      <td>234950</td>\n",
       "    </tr>\n",
       "    <tr>\n",
       "      <th>2017</th>\n",
       "      <td>1052775</td>\n",
       "      <td>1597119</td>\n",
       "      <td>244899</td>\n",
       "    </tr>\n",
       "    <tr>\n",
       "      <th>2018</th>\n",
       "      <td>1239952</td>\n",
       "      <td>1756299</td>\n",
       "      <td>273438</td>\n",
       "    </tr>\n",
       "    <tr>\n",
       "      <th>2019</th>\n",
       "      <td>1339929</td>\n",
       "      <td>1824863</td>\n",
       "      <td>296801</td>\n",
       "    </tr>\n",
       "    <tr>\n",
       "      <th>2020</th>\n",
       "      <td>1407865</td>\n",
       "      <td>1837679</td>\n",
       "      <td>385770</td>\n",
       "    </tr>\n",
       "    <tr>\n",
       "      <th>2021</th>\n",
       "      <td>1507425</td>\n",
       "      <td>1790346</td>\n",
       "      <td>380511</td>\n",
       "    </tr>\n",
       "  </tbody>\n",
       "</table>\n",
       "</div>"
      ],
      "text/plain": [
       "      Anxiety  Depressive Disorder  Alcohol/Substance Use\n",
       "YEAR                                                     \n",
       "2013   666911              1438166                 330870\n",
       "2014   728842              1493754                 352250\n",
       "2015   755388              1419968                 269220\n",
       "2016   837963              1429857                 234950\n",
       "2017  1052775              1597119                 244899\n",
       "2018  1239952              1756299                 273438\n",
       "2019  1339929              1824863                 296801\n",
       "2020  1407865              1837679                 385770\n",
       "2021  1507425              1790346                 380511"
      ]
     },
     "execution_count": 12,
     "metadata": {},
     "output_type": "execute_result"
    }
   ],
   "source": [
    "# renaming the columns to be more descriptive\n",
    "mhsa_data = mhsa_data.rename(columns={'YEAR': 'Year',\n",
    "                                              'ANXIETYFLG': 'Anxiety', \n",
    "                                              'DEPRESSFLG': 'Depressive Disorder', \n",
    "                                              'ALCSUBFLG': 'Alcohol/Substance Use'})\n",
    "\n",
    "mhsa_data"
   ]
  },
  {
   "cell_type": "code",
   "execution_count": 13,
   "metadata": {},
   "outputs": [
    {
     "data": {
      "text/plain": [
       "<Axes: xlabel='YEAR'>"
      ]
     },
     "execution_count": 13,
     "metadata": {},
     "output_type": "execute_result"
    },
    {
     "data": {
      "image/png": "[encoded data removed]",
      "text/plain": [
       "<Figure size 640x480 with 1 Axes>"
      ]
     },
     "metadata": {},
     "output_type": "display_data"
    }
   ],
   "source": [
    "# plot the data\n",
    "mhsa_data.plot()"
   ]
  },
  {
   "cell_type": "code",
   "execution_count": 8,
   "metadata": {},
   "outputs": [],
   "source": [
    "# export the compiled data to a CSV file\n",
    "mhsa_data.to_csv('mental_health_sa_compiled.csv')"
   ]
  }
 ],
 "metadata": {
  "kernelspec": {
   "display_name": "base",
   "language": "python",
   "name": "python3"
  },
  "language_info": {
   "codemirror_mode": {
    "name": "ipython",
    "version": 3
   },
   "file_extension": ".py",
   "mimetype": "text/x-python",
   "name": "python",
   "nbconvert_exporter": "python",
   "pygments_lexer": "ipython3",
   "version": "3.11.5"
  }
 },
 "nbformat": 4,
 "nbformat_minor": 2
}
