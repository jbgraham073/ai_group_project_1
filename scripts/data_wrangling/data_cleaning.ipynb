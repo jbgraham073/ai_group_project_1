{
 "cells": [
  {
   "cell_type": "code",
   "execution_count": 42,
   "metadata": {},
   "outputs": [],
   "source": [
    "import pandas as pd"
   ]
  },
  {
   "cell_type": "code",
   "execution_count": 43,
   "metadata": {},
   "outputs": [],
   "source": [
    "federal_funds_effective = pd.read_csv('../../resources/raw_data/DFF.csv')\n",
    "c_p_i = pd.read_csv('../../resources/raw_data/MEDCPIM158SFRBCLE.csv')\n",
    "unemployment_rate = pd.read_csv('../../resources/raw_data/UNRATE.csv')\n"
   ]
  },
  {
   "cell_type": "code",
   "execution_count": 44,
   "metadata": {},
   "outputs": [
    {
     "data": {
      "text/html": [
       "<div>\n",
       "<style scoped>\n",
       "    .dataframe tbody tr th:only-of-type {\n",
       "        vertical-align: middle;\n",
       "    }\n",
       "\n",
       "    .dataframe tbody tr th {\n",
       "        vertical-align: top;\n",
       "    }\n",
       "\n",
       "    .dataframe thead th {\n",
       "        text-align: right;\n",
       "    }\n",
       "</style>\n",
       "<table border=\"1\" class=\"dataframe\">\n",
       "  <thead>\n",
       "    <tr style=\"text-align: right;\">\n",
       "      <th></th>\n",
       "      <th>DATE</th>\n",
       "      <th>DFF</th>\n",
       "    </tr>\n",
       "  </thead>\n",
       "  <tbody>\n",
       "    <tr>\n",
       "      <th>0</th>\n",
       "      <td>2000-01-01</td>\n",
       "      <td>3.99</td>\n",
       "    </tr>\n",
       "    <tr>\n",
       "      <th>1</th>\n",
       "      <td>2000-01-02</td>\n",
       "      <td>3.99</td>\n",
       "    </tr>\n",
       "    <tr>\n",
       "      <th>2</th>\n",
       "      <td>2000-01-03</td>\n",
       "      <td>5.43</td>\n",
       "    </tr>\n",
       "    <tr>\n",
       "      <th>3</th>\n",
       "      <td>2000-01-04</td>\n",
       "      <td>5.38</td>\n",
       "    </tr>\n",
       "    <tr>\n",
       "      <th>4</th>\n",
       "      <td>2000-01-05</td>\n",
       "      <td>5.41</td>\n",
       "    </tr>\n",
       "  </tbody>\n",
       "</table>\n",
       "</div>"
      ],
      "text/plain": [
       "         DATE   DFF\n",
       "0  2000-01-01  3.99\n",
       "1  2000-01-02  3.99\n",
       "2  2000-01-03  5.43\n",
       "3  2000-01-04  5.38\n",
       "4  2000-01-05  5.41"
      ]
     },
     "execution_count": 44,
     "metadata": {},
     "output_type": "execute_result"
    }
   ],
   "source": [
    "federal_funds_effective.head()"
   ]
  },
  {
   "cell_type": "code",
   "execution_count": 45,
   "metadata": {},
   "outputs": [
    {
     "data": {
      "text/plain": [
       "DATE\n",
       "2000    6.237432\n",
       "2001    3.878356\n",
       "2002    1.666795\n",
       "2003    1.126493\n",
       "2004    1.350328\n",
       "Name: Federal Funds Effective Rate, dtype: float64"
      ]
     },
     "execution_count": 45,
     "metadata": {},
     "output_type": "execute_result"
    }
   ],
   "source": [
    "#rename the column DFF to Federal Funds Effective Rate\n",
    "federal_funds_effective = federal_funds_effective.rename(columns={'DFF': 'Federal Funds Effective Rate'})\n",
    "\n",
    "#change Date column to datetime\n",
    "federal_funds_effective['DATE'] = pd.to_datetime(federal_funds_effective['DATE'])\n",
    "\n",
    "#Group the data by year and sum the 'Federal Funds Effective Rate' for each year\n",
    "federal_funds_effective_annual = federal_funds_effective.groupby(federal_funds_effective['DATE'].dt.year)['Federal Funds Effective Rate'].mean()\n",
    "\n",
    "federal_funds_effective_annual.head()\n"
   ]
  },
  {
   "cell_type": "code",
   "execution_count": 46,
   "metadata": {},
   "outputs": [],
   "source": [
    "federal_funds_effective_annual.to_csv('../../resources/clean_data/federal_funds_effective.csv', index=False)\n"
   ]
  },
  {
   "cell_type": "code",
   "execution_count": 47,
   "metadata": {},
   "outputs": [],
   "source": [
    "c_p_i = c_p_i.rename(columns={'MEDCPIM158SFRBCLE': 'Median Consumer Price Index'})\n"
   ]
  },
  {
   "cell_type": "code",
   "execution_count": 48,
   "metadata": {},
   "outputs": [
    {
     "data": {
      "text/plain": [
       "DATE\n",
       "2000    3.029770\n",
       "2001    3.266541\n",
       "2002    2.591918\n",
       "2003    1.680593\n",
       "2004    2.432897\n",
       "Name: Median Consumer Price Index, dtype: float64"
      ]
     },
     "execution_count": 48,
     "metadata": {},
     "output_type": "execute_result"
    }
   ],
   "source": [
    "c_p_i['DATE'] = pd.to_datetime(c_p_i['DATE'])\n",
    "\n",
    "#Group the data by year and mean of the 'Median Consumer Price Index' for each year\n",
    "c_p_i_annual = c_p_i.groupby(c_p_i['DATE'].dt.year)['Median Consumer Price Index'].mean()\n",
    "\n",
    "c_p_i_annual.head()"
   ]
  },
  {
   "cell_type": "code",
   "execution_count": 54,
   "metadata": {},
   "outputs": [],
   "source": [
    "c_p_i_annual.to_csv('../../resources/clean_data/consumer_price_index.csv', index=False)"
   ]
  },
  {
   "cell_type": "code",
   "execution_count": 50,
   "metadata": {},
   "outputs": [],
   "source": [
    "unemployment_rate = unemployment_rate.rename(columns={'UNRATE': 'Unemployment Rate'})"
   ]
  },
  {
   "cell_type": "code",
   "execution_count": 55,
   "metadata": {},
   "outputs": [
    {
     "data": {
      "text/plain": [
       "DATE\n",
       "2000    3.966667\n",
       "2001    4.741667\n",
       "2002    5.783333\n",
       "2003    5.991667\n",
       "2004    5.541667\n",
       "Name: Unemployment Rate, dtype: float64"
      ]
     },
     "execution_count": 55,
     "metadata": {},
     "output_type": "execute_result"
    }
   ],
   "source": [
    "unemployment_rate ['DATE'] = pd.to_datetime(unemployment_rate['DATE'])  \n",
    "\n",
    "#Group the data by year and mean of the 'Unemployment Rate' for each year\n",
    "unemployment_rate_annual = unemployment_rate.groupby(unemployment_rate['DATE'].dt.year)['Unemployment Rate'].mean()\n",
    "\n",
    "unemployment_rate_annual.head()"
   ]
  },
  {
   "cell_type": "code",
   "execution_count": 52,
   "metadata": {},
   "outputs": [
    {
     "data": {
      "text/html": [
       "<div>\n",
       "<style scoped>\n",
       "    .dataframe tbody tr th:only-of-type {\n",
       "        vertical-align: middle;\n",
       "    }\n",
       "\n",
       "    .dataframe tbody tr th {\n",
       "        vertical-align: top;\n",
       "    }\n",
       "\n",
       "    .dataframe thead th {\n",
       "        text-align: right;\n",
       "    }\n",
       "</style>\n",
       "<table border=\"1\" class=\"dataframe\">\n",
       "  <thead>\n",
       "    <tr style=\"text-align: right;\">\n",
       "      <th></th>\n",
       "      <th>DATE</th>\n",
       "      <th>Unemployment Rate</th>\n",
       "    </tr>\n",
       "  </thead>\n",
       "  <tbody>\n",
       "    <tr>\n",
       "      <th>0</th>\n",
       "      <td>2000-01-01</td>\n",
       "      <td>4.0</td>\n",
       "    </tr>\n",
       "    <tr>\n",
       "      <th>1</th>\n",
       "      <td>2000-02-01</td>\n",
       "      <td>4.1</td>\n",
       "    </tr>\n",
       "    <tr>\n",
       "      <th>2</th>\n",
       "      <td>2000-03-01</td>\n",
       "      <td>4.0</td>\n",
       "    </tr>\n",
       "    <tr>\n",
       "      <th>3</th>\n",
       "      <td>2000-04-01</td>\n",
       "      <td>3.8</td>\n",
       "    </tr>\n",
       "    <tr>\n",
       "      <th>4</th>\n",
       "      <td>2000-05-01</td>\n",
       "      <td>4.0</td>\n",
       "    </tr>\n",
       "    <tr>\n",
       "      <th>...</th>\n",
       "      <td>...</td>\n",
       "      <td>...</td>\n",
       "    </tr>\n",
       "    <tr>\n",
       "      <th>284</th>\n",
       "      <td>2023-09-01</td>\n",
       "      <td>3.8</td>\n",
       "    </tr>\n",
       "    <tr>\n",
       "      <th>285</th>\n",
       "      <td>2023-10-01</td>\n",
       "      <td>3.8</td>\n",
       "    </tr>\n",
       "    <tr>\n",
       "      <th>286</th>\n",
       "      <td>2023-11-01</td>\n",
       "      <td>3.7</td>\n",
       "    </tr>\n",
       "    <tr>\n",
       "      <th>287</th>\n",
       "      <td>2023-12-01</td>\n",
       "      <td>3.7</td>\n",
       "    </tr>\n",
       "    <tr>\n",
       "      <th>288</th>\n",
       "      <td>2024-01-01</td>\n",
       "      <td>3.7</td>\n",
       "    </tr>\n",
       "  </tbody>\n",
       "</table>\n",
       "<p>289 rows × 2 columns</p>\n",
       "</div>"
      ],
      "text/plain": [
       "          DATE  Unemployment Rate\n",
       "0   2000-01-01                4.0\n",
       "1   2000-02-01                4.1\n",
       "2   2000-03-01                4.0\n",
       "3   2000-04-01                3.8\n",
       "4   2000-05-01                4.0\n",
       "..         ...                ...\n",
       "284 2023-09-01                3.8\n",
       "285 2023-10-01                3.8\n",
       "286 2023-11-01                3.7\n",
       "287 2023-12-01                3.7\n",
       "288 2024-01-01                3.7\n",
       "\n",
       "[289 rows x 2 columns]"
      ]
     },
     "execution_count": 52,
     "metadata": {},
     "output_type": "execute_result"
    }
   ],
   "source": [
    "unemployment_rate.dropna()"
   ]
  },
  {
   "cell_type": "code",
   "execution_count": 56,
   "metadata": {},
   "outputs": [],
   "source": [
    "unemployment_rate_annual.to_csv('../../resources/clean_data/unemployment_rate.csv', index=False)"
   ]
  }
 ],
 "metadata": {
  "kernelspec": {
   "display_name": "base",
   "language": "python",
   "name": "python3"
  },
  "language_info": {
   "codemirror_mode": {
    "name": "ipython",
    "version": 3
   },
   "file_extension": ".py",
   "mimetype": "text/x-python",
   "name": "python",
   "nbconvert_exporter": "python",
   "pygments_lexer": "ipython3",
   "version": "3.11.5"
  }
 },
 "nbformat": 4,
 "nbformat_minor": 2
}
